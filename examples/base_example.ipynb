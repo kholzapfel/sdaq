{
 "cells": [
  {
   "cell_type": "code",
   "execution_count": 1,
   "metadata": {
    "collapsed": true
   },
   "outputs": [],
   "source": [
    "# Author: Kilian Holzapfel <kilian.holzapfel@tum.de>\n",
    "\n",
    "import sdaq\n",
    "import h5py\n",
    "import time\n",
    "import numpy as np\n",
    "import os\n",
    "import logging"
   ]
  },
  {
   "cell_type": "markdown",
   "source": [
    "# Setup the logger\n",
    "sdaq is intended to work in the background with threads and also over long periods. Therefore logging is an important part (espacially to files) for debugging."
   ],
   "metadata": {
    "collapsed": false
   }
  },
  {
   "cell_type": "code",
   "execution_count": 2,
   "outputs": [
    {
     "data": {
      "text/plain": "<RootLogger root (DEBUG)>"
     },
     "execution_count": 2,
     "metadata": {},
     "output_type": "execute_result"
    }
   ],
   "source": [
    "logging_file = 'sdaq.log'\n",
    "sdaq.setup_logging(\n",
    "    # enables the file logger to the specified file\n",
    "    file_name=logging_file,\n",
    "    # sets the logging level for the file logger and also for the console logger if to_console=True\n",
    "    log_level=logging.DEBUG,  # sets the logging level for the file logger and also for the console\n",
    "    # enables the logging to the console with the specified level\n",
    "    to_console=logging.INFO,\n",
    "    )"
   ],
   "metadata": {
    "collapsed": false
   }
  },
  {
   "cell_type": "markdown",
   "source": [
    "# Define getter functions\n",
    "Returns random numbers here, but can be any function that returns a measurement when it gets called. SDAQ executes the functions automatically with the specified frequency in the background."
   ],
   "metadata": {
    "collapsed": false
   }
  },
  {
   "cell_type": "code",
   "execution_count": 3,
   "outputs": [
    {
     "data": {
      "text/plain": "sdaq.daq_job.DAQJobExtern"
     },
     "execution_count": 3,
     "metadata": {},
     "output_type": "execute_result"
    }
   ],
   "source": [
    "def getter():\n",
    "    \"\"\"A dummy-getter function which returns one value.\"\"\"\n",
    "    return [np.random.random()]\n",
    "\n",
    "\n",
    "def getter_2():\n",
    "    \"\"\"A dummy-getter function which returns one value and a 2x2 array.\"\"\"\n",
    "    return [np.random.random(), np.random.random((2, 2))]\n",
    "\n",
    "getter(), getter_2()\n",
    "sdaq.DAQJobExtern"
   ],
   "metadata": {
    "collapsed": false
   }
  },
  {
   "cell_type": "markdown",
   "source": [
    "# Initialize the single Jobs and the Daemon\n",
    "- A single **DAQJob** is basically a single time-series of data. `read_period` defines the frequency of the execution of the `getter`-function. But it is also possible to disable the scheduler and trigger a `getter`-execution somewhere else in the code. It is also possible that the `getter` is another program with `sdaq.DAQJobExtern`. The program gets executed and the package reads the data from the STDOUT stream.\n",
    "- The **DAQDaemon** wrties the data to the file and if specified also handles the rollover to a new file. It collects the data from its DAQJobs (and empties the DAQJobs buffer) and writes it to the file."
   ],
   "metadata": {
    "collapsed": false
   }
  },
  {
   "cell_type": "code",
   "execution_count": 4,
   "outputs": [
    {
     "name": "stderr",
     "output_type": "stream",
     "text": [
      "2024-01-26 11:41:39,573;   INFO;ThreadScheduler_DAQDaemon-: Stop scheduler; DAQDaemon-\n",
      "2024-01-26 11:41:39,574;   INFO;ThreadScheduler_DAQDaemon-: Start scheduler; DAQDaemon-\n",
      "2024-01-26 11:41:42,576;   INFO;          DAQDaemon-: Stop DAQDaemon , active: True\n",
      "2024-01-26 11:41:42,577;   INFO;ThreadScheduler_DAQDaemon-: Stop scheduler; DAQDaemon-\n",
      "2024-01-26 11:41:42,599;   INFO;          DAQDaemon-: rename file from /Users/kilian/PycharmProjects/sdaq/examples/DAQ_20240126T104139.572Z_20240126T235959.999Z.hdf5 to /Users/kilian/PycharmProjects/sdaq/examples/DAQ_20240126T104139.572Z_20240126T104142.577Z.hdf5\n"
     ]
    },
    {
     "data": {
      "text/plain": "'Stopping the logger daemon - file renamed from /Users/kilian/PycharmProjects/sdaq/examples/DAQ_20240126T104139.572Z_20240126T235959.999Z.hdf5 to /Users/kilian/PycharmProjects/sdaq/examples/DAQ_20240126T104139.572Z_20240126T104142.577Z.hdf5'"
     },
     "execution_count": 4,
     "metadata": {},
     "output_type": "execute_result"
    }
   ],
   "source": [
    "# set up Jobs\n",
    "job_list = [sdaq.DAQJob('job_1', 'table_0', getter),\n",
    "            sdaq.DAQJob('job_2', ['1d_array', 'nd_array'], getter_2, shape=[(0,), (0, 2, 2)],read_period=.2)\n",
    "            ]\n",
    "# set up Daemon\n",
    "daq_daemon = sdaq.DAQDaemon(job_list)\n",
    "\n",
    "# start the Daemon, wait, and stop it\n",
    "daq_daemon.start(attrs={'measurement': 'test', 'run_id': 12})  # attrs are added as root attributes of the hdf5 file\n",
    "time.sleep(3)\n",
    "daq_daemon.stop()"
   ],
   "metadata": {
    "collapsed": false
   }
  },
  {
   "cell_type": "markdown",
   "source": [
    "# Checkout the logger file"
   ],
   "metadata": {
    "collapsed": false
   }
  },
  {
   "cell_type": "code",
   "execution_count": 5,
   "outputs": [
    {
     "name": "stdout",
     "output_type": "stream",
     "text": [
      "DEBUG:ThreadScheduler_DAQDaemon-:__del__\n",
      "DEBUG:ThreadScheduler_DAQDaemon-:Clear DAQDaemon- scheduler.\n",
      "INFO:ThreadScheduler_DAQDaemon-:Stop scheduler; DAQDaemon-\n",
      "INFO:ThreadScheduler_DAQDaemon-:Stop scheduler; DAQDaemon-\n",
      "DEBUG:ThreadScheduler_DAQDaemon-:__del__\n",
      "DEBUG:ThreadScheduler_DAQDaemon-:Clear DAQDaemon- scheduler.\n",
      "INFO:ThreadScheduler_DAQDaemon-:Stop scheduler; DAQDaemon-\n",
      "INFO:ThreadScheduler_DAQDaemon-:Stop scheduler; DAQDaemon-\n",
      "DEBUG:ThreadScheduler_DAQDaemon-:__del__\n",
      "DEBUG:ThreadScheduler_DAQDaemon-:Clear DAQDaemon- scheduler.\n",
      "INFO:ThreadScheduler_DAQDaemon-:Stop scheduler; DAQDaemon-\n",
      "INFO:ThreadScheduler_DAQDaemon-:Stop scheduler; DAQDaemon-\n",
      "2024-01-26 11:11:42,490;INFO;Stop scheduler; DAQDaemon-\n",
      "2024-01-26 11:11:42,492;INFO;Start scheduler; DAQDaemon-\n",
      "2024-01-26 11:11:45,498;INFO;Stop DAQDaemon , active: True\n",
      "2024-01-26 11:11:45,501;INFO;Stop scheduler; DAQDaemon-\n",
      "2024-01-26 11:11:45,519;INFO;rename file from /Users/kilian/PycharmProjects/sdaq/examples/DAQ_20240126T101142.489Z_20240126T235959.999Z.hdf5 to /Users/kilian/PycharmProjects/sdaq/examples/DAQ_20240126T101142.489Z_20240126T101145.501Z.hdf5\n",
      "2024-01-26 11:20:56,177;INFO;Stop scheduler; DAQDaemon-\n",
      "2024-01-26 11:20:56,190;INFO;Stop scheduler; DAQDaemon-\n",
      "2024-01-26 11:21:06,277;DEBUG;Initialised Class\n",
      "2024-01-26 11:21:06,278;DEBUG;Initialised Class\n",
      "2024-01-26 11:21:06,278;DEBUG;Initialised Class\n",
      "2024-01-26 11:21:06,279;DEBUG;Initialised Class\n",
      "2024-01-26 11:21:06,280;DEBUG;Start SDAQ Job: job_1 with read mode: schedule\n",
      "2024-01-26 11:21:06,280;DEBUG;Start SDAQ Job: job_2 with read mode: schedule\n",
      "2024-01-26 11:21:06,280;DEBUG;Clear DAQDaemon- scheduler.\n",
      "2024-01-26 11:21:06,280;INFO;Stop scheduler; DAQDaemon-\n",
      "2024-01-26 11:21:06,281;DEBUG;Scheduler DAQDaemon- new Job: _write_hdf5_lock\n",
      "2024-01-26 11:21:06,282;INFO;Start scheduler; DAQDaemon-\n",
      "2024-01-26 11:21:09,286;INFO;Stop DAQDaemon , active: True\n",
      "2024-01-26 11:21:09,288;INFO;Stop scheduler; DAQDaemon-\n",
      "2024-01-26 11:21:09,289;DEBUG;Schedule loop stopped; DAQDaemon-\n",
      "2024-01-26 11:21:09,289;DEBUG;Stop SDAQ Job: job_1\n",
      "2024-01-26 11:21:09,289;DEBUG;Stop SDAQ Job: job_1 done.\n",
      "2024-01-26 11:21:09,290;DEBUG;Stop SDAQ Job: job_2\n",
      "2024-01-26 11:21:09,290;DEBUG;Stop SDAQ Job: job_2 done.\n",
      "2024-01-26 11:21:09,294;DEBUG;Creating converter from 5 to 3\n",
      "2024-01-26 11:21:09,306;DEBUG;write to hdf5: name=, write=0.015s,size=468, groups=['job_1 len: (4,)', 'job_2 len: (15,)'], file=/Users/kilian/PycharmProjects/sdaq/examples/DAQ_20240126T102106.279Z_20240126T235959.999Z.hdf5\n",
      "2024-01-26 11:21:09,306;INFO;rename file from /Users/kilian/PycharmProjects/sdaq/examples/DAQ_20240126T102106.279Z_20240126T235959.999Z.hdf5 to /Users/kilian/PycharmProjects/sdaq/examples/DAQ_20240126T102106.279Z_20240126T102109.287Z.hdf5\n",
      "2024-01-26 11:41:33,776;DEBUG;__del__\n",
      "2024-01-26 11:41:33,776;DEBUG;__del__\n",
      "2024-01-26 11:41:33,776;DEBUG;__del__\n",
      "2024-01-26 11:41:33,777;DEBUG;Clear DAQDaemon- scheduler.\n",
      "2024-01-26 11:41:33,777;DEBUG;Clear DAQDaemon- scheduler.\n",
      "2024-01-26 11:41:33,777;DEBUG;Clear DAQDaemon- scheduler.\n",
      "2024-01-26 11:41:33,778;INFO;Stop scheduler; DAQDaemon-\n",
      "2024-01-26 11:41:33,778;INFO;Stop scheduler; DAQDaemon-\n",
      "2024-01-26 11:41:33,778;INFO;Stop scheduler; DAQDaemon-\n",
      "2024-01-26 11:41:33,793;INFO;Stop scheduler; DAQDaemon-\n",
      "2024-01-26 11:41:33,793;INFO;Stop scheduler; DAQDaemon-\n",
      "2024-01-26 11:41:33,793;INFO;Stop scheduler; DAQDaemon-\n",
      "2024-01-26 11:41:39,570;DEBUG;Initialised Class\n",
      "2024-01-26 11:41:39,571;DEBUG;Initialised Class\n",
      "2024-01-26 11:41:39,572;DEBUG;Initialised Class\n",
      "2024-01-26 11:41:39,572;DEBUG;Initialised Class\n",
      "2024-01-26 11:41:39,573;DEBUG;Start SDAQ Job: job_1 with read mode: schedule\n",
      "2024-01-26 11:41:39,573;DEBUG;Start SDAQ Job: job_2 with read mode: schedule\n",
      "2024-01-26 11:41:39,573;DEBUG;Clear DAQDaemon- scheduler.\n",
      "2024-01-26 11:41:39,573;INFO;Stop scheduler; DAQDaemon-\n",
      "2024-01-26 11:41:39,574;DEBUG;Scheduler DAQDaemon- new Job: _write_hdf5_lock\n",
      "2024-01-26 11:41:39,574;INFO;Start scheduler; DAQDaemon-\n",
      "2024-01-26 11:41:42,576;INFO;Stop DAQDaemon , active: True\n",
      "2024-01-26 11:41:42,577;INFO;Stop scheduler; DAQDaemon-\n",
      "2024-01-26 11:41:42,581;DEBUG;Schedule loop stopped; DAQDaemon-\n",
      "2024-01-26 11:41:42,582;DEBUG;Stop SDAQ Job: job_1\n",
      "2024-01-26 11:41:42,583;DEBUG;Stop SDAQ Job: job_1 done.\n",
      "2024-01-26 11:41:42,584;DEBUG;Stop SDAQ Job: job_2\n",
      "2024-01-26 11:41:42,584;DEBUG;Stop SDAQ Job: job_2 done.\n",
      "2024-01-26 11:41:42,587;DEBUG;Creating converter from 5 to 3\n",
      "2024-01-26 11:41:42,599;DEBUG;write to hdf5: name=, write=0.014s,size=468, groups=['job_1 len: (4,)', 'job_2 len: (15,)'], file=/Users/kilian/PycharmProjects/sdaq/examples/DAQ_20240126T104139.572Z_20240126T235959.999Z.hdf5\n",
      "2024-01-26 11:41:42,599;INFO;rename file from /Users/kilian/PycharmProjects/sdaq/examples/DAQ_20240126T104139.572Z_20240126T235959.999Z.hdf5 to /Users/kilian/PycharmProjects/sdaq/examples/DAQ_20240126T104139.572Z_20240126T104142.577Z.hdf5\n"
     ]
    }
   ],
   "source": [
    "with open(logging_file, 'r') as f:\n",
    "    for i in f.readlines():\n",
    "        print(i.strip())"
   ],
   "metadata": {
    "collapsed": false
   }
  },
  {
   "cell_type": "markdown",
   "source": [
    "# Checkout what is writen in the hdf5 file"
   ],
   "metadata": {
    "collapsed": false
   }
  },
  {
   "cell_type": "code",
   "execution_count": 6,
   "outputs": [
    {
     "name": "stdout",
     "output_type": "stream",
     "text": [
      "/Users/kilian/PycharmProjects/sdaq/examples/DAQ_20240126T104139.572Z_20240126T104142.577Z.hdf5\n",
      "---> job_1\n",
      "job_1/table_0 \t- shape: (4,)\n",
      "job_1/time   \t- shape: (4,)\n",
      "period: 2024-01-26T09:41:39.573252864 - 2024-01-26T09:41:42.575230976\n",
      "\n",
      "---> job_2\n",
      "job_2/1d_array \t- shape: (15,)\n",
      "job_2/nd_array \t- shape: (15, 2, 2)\n",
      "job_2/time   \t- shape: (15,)\n",
      "period: 2024-01-26T09:41:39.573492992 - 2024-01-26T09:41:42.427791104\n",
      "\n"
     ]
    }
   ],
   "source": [
    "# check the file\n",
    "with h5py.File(daq_daemon.file_name, mode='r') as f:\n",
    "    print(f'{f.filename}')\n",
    "    for i in f:\n",
    "        print(f'---> {i}')\n",
    "        for j in f.get(i):\n",
    "            data = f.get(f'{i}/{j}')[:]\n",
    "            print(f'{i+\"/\"+j:12} \\t- shape: {data.shape}')\n",
    "            if j == 'time':\n",
    "                t_data = (data * 1e9).astype(\"datetime64[ns]\")\n",
    "                print(f'period: {t_data[0]} - {t_data[-1]}')\n",
    "        print()"
   ],
   "metadata": {
    "collapsed": false
   }
  },
  {
   "cell_type": "code",
   "execution_count": 7,
   "outputs": [],
   "source": [
    "# delete the file\n",
    "os.remove(daq_daemon.file_name)"
   ],
   "metadata": {
    "collapsed": false
   }
  }
 ],
 "metadata": {
  "kernelspec": {
   "display_name": "Python 3",
   "language": "python",
   "name": "python3"
  },
  "language_info": {
   "codemirror_mode": {
    "name": "ipython",
    "version": 2
   },
   "file_extension": ".py",
   "mimetype": "text/x-python",
   "name": "python",
   "nbconvert_exporter": "python",
   "pygments_lexer": "ipython2",
   "version": "2.7.6"
  }
 },
 "nbformat": 4,
 "nbformat_minor": 0
}
